{
 "cells": [
  {
   "cell_type": "code",
   "execution_count": 1,
   "id": "8ac2fd9a",
   "metadata": {},
   "outputs": [],
   "source": [
    "%matplotlib inline"
   ]
  },
  {
   "cell_type": "code",
   "execution_count": 2,
   "id": "3bc27ba9",
   "metadata": {},
   "outputs": [],
   "source": [
    "import numpy as np\n",
    "import pandas as pd\n",
    "import matplotlib.pyplot as plt"
   ]
  },
  {
   "cell_type": "code",
   "execution_count": 3,
   "id": "4ff6ed7f",
   "metadata": {},
   "outputs": [],
   "source": [
    "from skimage.io import imread"
   ]
  },
  {
   "cell_type": "markdown",
   "id": "57cab790",
   "metadata": {},
   "source": [
    "<p style = \"font-size: 13px; text-align: right; color: cadetblue\" > August 2024, written by Irina Nedyalkova"
   ]
  },
  {
   "cell_type": "markdown",
   "id": "dd975002",
   "metadata": {},
   "source": [
    "<p style = \"font-size: 27px; text-align: center; color: cadetblue\" > Weather Data"
   ]
  },
  {
   "cell_type": "markdown",
   "id": "66721248",
   "metadata": {},
   "source": [
    "This work should have been my Date and Time practice but the Wind data catched my eye. Probably, not a surprise, wind is my favourite natural phenomenon. We can not see wind, just the things it moves. "
   ]
  },
  {
   "cell_type": "code",
   "execution_count": 4,
   "id": "b000394e",
   "metadata": {},
   "outputs": [],
   "source": [
    "WEATHER_DATA = pd.read_csv(\"weather_data.csv\")"
   ]
  },
  {
   "cell_type": "code",
   "execution_count": 5,
   "id": "3f24640c",
   "metadata": {},
   "outputs": [
    {
     "data": {
      "text/plain": [
       "Index(['Date/Time', 'Temp_C', 'Dew Point Temp_C', 'Rel Hum_%',\n",
       "       'Wind Speed_km/h', 'Visibility_km', 'Press_kPa', 'Weather'],\n",
       "      dtype='object')"
      ]
     },
     "execution_count": 5,
     "metadata": {},
     "output_type": "execute_result"
    }
   ],
   "source": [
    "WEATHER_DATA.columns"
   ]
  },
  {
   "cell_type": "markdown",
   "id": "3535bc83",
   "metadata": {},
   "source": [
    "- First, I take a look at the data.\n",
    "- Second, I wrap it in a global variable (capital letters).\n",
    "- Third, I see what columns do we have...\n",
    "- For this project, I decide to drop some of the columns and work with just 4 of them."
   ]
  },
  {
   "cell_type": "code",
   "execution_count": 6,
   "id": "8f92e609",
   "metadata": {},
   "outputs": [],
   "source": [
    "df_weather = WEATHER_DATA.drop(axis = 1, columns = [\"Dew Point Temp_C\", \"Rel Hum_%\", \"Visibility_km\", \"Press_kPa\"]) "
   ]
  },
  {
   "cell_type": "markdown",
   "id": "9f02ebc0",
   "metadata": {},
   "source": [
    "I make a new dataframe. Here comes the importance of the global variable. Always know which your original dataframe is!"
   ]
  },
  {
   "cell_type": "code",
   "execution_count": 7,
   "id": "fd4c9b13",
   "metadata": {},
   "outputs": [],
   "source": [
    "date_time = df_weather[\"Date/Time\"]                                       # original Date/Time column\n",
    "\n",
    "df_DT = pd.DataFrame(date_time)"
   ]
  },
  {
   "cell_type": "markdown",
   "id": "18dc6234",
   "metadata": {},
   "source": [
    "I prefer to have clarity and take out just the column I want to split, the \"Date/Time\" column. "
   ]
  },
  {
   "cell_type": "code",
   "execution_count": 8,
   "id": "eebb75c6",
   "metadata": {},
   "outputs": [],
   "source": [
    "date = pd.to_datetime(df_DT[\"Date/Time\"]).dt.date                      # split to Date column\n",
    "\n",
    "just_dates = pd.DataFrame(date)                                     "
   ]
  },
  {
   "cell_type": "code",
   "execution_count": 9,
   "id": "5e72f216",
   "metadata": {},
   "outputs": [],
   "source": [
    "time = pd.to_datetime(df_DT[\"Date/Time\"]).dt.time                    # split to Time column\n",
    "\n",
    "just_time = pd.DataFrame(time)                                     "
   ]
  },
  {
   "cell_type": "markdown",
   "id": "99dc7eb7",
   "metadata": {},
   "source": [
    "I keep the variables closed, because GitHub shows them in Large, and the data takes up too much space."
   ]
  },
  {
   "cell_type": "code",
   "execution_count": 10,
   "id": "ea2206d8",
   "metadata": {},
   "outputs": [],
   "source": [
    "date_column = just_dates.rename(columns = {\"Date/Time\": \"Date\"})"
   ]
  },
  {
   "cell_type": "code",
   "execution_count": 11,
   "id": "3d98774c",
   "metadata": {},
   "outputs": [],
   "source": [
    "time_column = just_time.rename(columns = {\"Date/Time\": \"Time\"})"
   ]
  },
  {
   "cell_type": "markdown",
   "id": "fd5bb965",
   "metadata": {},
   "source": [
    "Above, renamed the columns just as $Date$ and $Time$."
   ]
  },
  {
   "cell_type": "code",
   "execution_count": 12,
   "id": "0ec9fab7",
   "metadata": {},
   "outputs": [],
   "source": [
    "working_df = df_weather.drop(axis = 1, columns = \"Date/Time\")"
   ]
  },
  {
   "cell_type": "markdown",
   "id": "1ff26f1d",
   "metadata": {},
   "source": [
    "I create, check for accuracy and wrap the data in a variable then."
   ]
  },
  {
   "cell_type": "code",
   "execution_count": 13,
   "id": "c97621fd",
   "metadata": {},
   "outputs": [],
   "source": [
    "working_df.insert(0, \"Date\", value = date_column)\n",
    "working_df.insert(1, \"Time\", value = time_column)"
   ]
  },
  {
   "cell_type": "markdown",
   "id": "da5de253",
   "metadata": {},
   "source": [
    "<p style = \"font-size: 17px; text-align: center\" > My new DataFrame, which I will be working with, is ready! It has 5 columns and 8784 rows."
   ]
  },
  {
   "cell_type": "code",
   "execution_count": 14,
   "id": "757d3c7b",
   "metadata": {},
   "outputs": [],
   "source": [
    "#working_df                   # I don't open too large variables in GitHub"
   ]
  },
  {
   "cell_type": "code",
   "execution_count": 15,
   "id": "588a488e",
   "metadata": {},
   "outputs": [
    {
     "data": {
      "text/plain": [
       "Index(['Date', 'Time', 'Temp_C', 'Wind Speed_km/h', 'Weather'], dtype='object')"
      ]
     },
     "execution_count": 15,
     "metadata": {},
     "output_type": "execute_result"
    }
   ],
   "source": [
    "working_df.columns"
   ]
  },
  {
   "cell_type": "code",
   "execution_count": 16,
   "id": "0ece452f",
   "metadata": {},
   "outputs": [
    {
     "data": {
      "text/html": [
       "<div>\n",
       "<style scoped>\n",
       "    .dataframe tbody tr th:only-of-type {\n",
       "        vertical-align: middle;\n",
       "    }\n",
       "\n",
       "    .dataframe tbody tr th {\n",
       "        vertical-align: top;\n",
       "    }\n",
       "\n",
       "    .dataframe thead th {\n",
       "        text-align: right;\n",
       "    }\n",
       "</style>\n",
       "<table border=\"1\" class=\"dataframe\">\n",
       "  <thead>\n",
       "    <tr style=\"text-align: right;\">\n",
       "      <th></th>\n",
       "      <th>Date</th>\n",
       "      <th>Time</th>\n",
       "      <th>Temp_C</th>\n",
       "      <th>Wind Speed_km/h</th>\n",
       "      <th>Weather</th>\n",
       "    </tr>\n",
       "  </thead>\n",
       "  <tbody>\n",
       "    <tr>\n",
       "      <th>344</th>\n",
       "      <td>2012-01-15</td>\n",
       "      <td>08:00:00</td>\n",
       "      <td>-23.3</td>\n",
       "      <td>7</td>\n",
       "      <td>Clear</td>\n",
       "    </tr>\n",
       "    <tr>\n",
       "      <th>342</th>\n",
       "      <td>2012-01-15</td>\n",
       "      <td>06:00:00</td>\n",
       "      <td>-23.2</td>\n",
       "      <td>7</td>\n",
       "      <td>Mostly Cloudy</td>\n",
       "    </tr>\n",
       "    <tr>\n",
       "      <th>343</th>\n",
       "      <td>2012-01-15</td>\n",
       "      <td>07:00:00</td>\n",
       "      <td>-22.8</td>\n",
       "      <td>9</td>\n",
       "      <td>Mainly Clear</td>\n",
       "    </tr>\n",
       "    <tr>\n",
       "      <th>345</th>\n",
       "      <td>2012-01-15</td>\n",
       "      <td>09:00:00</td>\n",
       "      <td>-22.2</td>\n",
       "      <td>9</td>\n",
       "      <td>Mainly Clear</td>\n",
       "    </tr>\n",
       "    <tr>\n",
       "      <th>338</th>\n",
       "      <td>2012-01-15</td>\n",
       "      <td>02:00:00</td>\n",
       "      <td>-21.4</td>\n",
       "      <td>9</td>\n",
       "      <td>Cloudy</td>\n",
       "    </tr>\n",
       "    <tr>\n",
       "      <th>341</th>\n",
       "      <td>2012-01-15</td>\n",
       "      <td>05:00:00</td>\n",
       "      <td>-21.3</td>\n",
       "      <td>6</td>\n",
       "      <td>Mostly Cloudy</td>\n",
       "    </tr>\n",
       "    <tr>\n",
       "      <th>336</th>\n",
       "      <td>2012-01-15</td>\n",
       "      <td>00:00:00</td>\n",
       "      <td>-21.2</td>\n",
       "      <td>11</td>\n",
       "      <td>Cloudy</td>\n",
       "    </tr>\n",
       "    <tr>\n",
       "      <th>337</th>\n",
       "      <td>2012-01-15</td>\n",
       "      <td>01:00:00</td>\n",
       "      <td>-21.1</td>\n",
       "      <td>9</td>\n",
       "      <td>Cloudy</td>\n",
       "    </tr>\n",
       "    <tr>\n",
       "      <th>340</th>\n",
       "      <td>2012-01-15</td>\n",
       "      <td>04:00:00</td>\n",
       "      <td>-21.0</td>\n",
       "      <td>0</td>\n",
       "      <td>Cloudy</td>\n",
       "    </tr>\n",
       "    <tr>\n",
       "      <th>339</th>\n",
       "      <td>2012-01-15</td>\n",
       "      <td>03:00:00</td>\n",
       "      <td>-20.7</td>\n",
       "      <td>4</td>\n",
       "      <td>Cloudy</td>\n",
       "    </tr>\n",
       "    <tr>\n",
       "      <th>346</th>\n",
       "      <td>2012-01-15</td>\n",
       "      <td>10:00:00</td>\n",
       "      <td>-20.6</td>\n",
       "      <td>9</td>\n",
       "      <td>Mainly Clear</td>\n",
       "    </tr>\n",
       "  </tbody>\n",
       "</table>\n",
       "</div>"
      ],
      "text/plain": [
       "           Date      Time  Temp_C  Wind Speed_km/h        Weather\n",
       "344  2012-01-15  08:00:00   -23.3                7          Clear\n",
       "342  2012-01-15  06:00:00   -23.2                7  Mostly Cloudy\n",
       "343  2012-01-15  07:00:00   -22.8                9   Mainly Clear\n",
       "345  2012-01-15  09:00:00   -22.2                9   Mainly Clear\n",
       "338  2012-01-15  02:00:00   -21.4                9         Cloudy\n",
       "341  2012-01-15  05:00:00   -21.3                6  Mostly Cloudy\n",
       "336  2012-01-15  00:00:00   -21.2               11         Cloudy\n",
       "337  2012-01-15  01:00:00   -21.1                9         Cloudy\n",
       "340  2012-01-15  04:00:00   -21.0                0         Cloudy\n",
       "339  2012-01-15  03:00:00   -20.7                4         Cloudy\n",
       "346  2012-01-15  10:00:00   -20.6                9   Mainly Clear"
      ]
     },
     "execution_count": 16,
     "metadata": {},
     "output_type": "execute_result"
    }
   ],
   "source": [
    "working_df.nsmallest(11, \"Temp_C\")                             # finding the lowest temperatures"
   ]
  },
  {
   "cell_type": "code",
   "execution_count": 17,
   "id": "9c12090c",
   "metadata": {},
   "outputs": [],
   "source": [
    "lowest_temp_df = working_df.nsmallest(11, \"Temp_C\")"
   ]
  },
  {
   "cell_type": "code",
   "execution_count": 18,
   "id": "27595564",
   "metadata": {},
   "outputs": [
    {
     "data": {
      "text/plain": [
       "(11, 5)"
      ]
     },
     "execution_count": 18,
     "metadata": {},
     "output_type": "execute_result"
    }
   ],
   "source": [
    "lowest_temp_df.shape"
   ]
  },
  {
   "cell_type": "code",
   "execution_count": 19,
   "id": "66d1e024",
   "metadata": {},
   "outputs": [],
   "source": [
    "lowest_temp_wind = lowest_temp_df[\"Wind Speed_km/h\"]"
   ]
  },
  {
   "cell_type": "code",
   "execution_count": 20,
   "id": "dacbdc7b",
   "metadata": {},
   "outputs": [],
   "source": [
    "temp_at_lowest = lowest_temp_df[\"Temp_C\"]"
   ]
  },
  {
   "cell_type": "markdown",
   "id": "221fd405",
   "metadata": {},
   "source": [
    "The lowest temperature is on 15.01.2012 with $11$ entries. Below, you see the visual presentation:"
   ]
  },
  {
   "cell_type": "code",
   "execution_count": 21,
   "id": "a38af5a3",
   "metadata": {},
   "outputs": [
    {
     "data": {
      "image/png": "[encoded data removed]",
      "text/plain": [
       "<Figure size 640x480 with 1 Axes>"
      ]
     },
     "metadata": {},
     "output_type": "display_data"
    }
   ],
   "source": [
    "fig, ax = plt.subplots()\n",
    "\n",
    "ax.plot(temp_at_lowest, lowest_temp_wind, linestyle = \"dashdot\", lw = 1.2, color = \"royalblue\")\n",
    "\n",
    "# hide some axes lines\n",
    "ax.spines[\"right\"].set_visible(False)\n",
    "ax.spines[\"left\"].set_visible(False)\n",
    "ax.spines[\"top\"].set_visible(False)\n",
    "\n",
    "# showing ticks\n",
    "ax.xaxis.set_ticks_position(\"bottom\")\n",
    "ax.yaxis.set_ticks_position(\"left\")\n",
    "\n",
    "# horozontal grid\n",
    "ax.yaxis.grid(lw = 0.2) \n",
    "\n",
    "# labels\n",
    "ax.set_xlabel(\"Temperature $^{o}C$\", size = 8)\n",
    "ax.set_ylabel(\"Wind Speed $km/h$\", size = 8)\n",
    "ax.set_title(\"Lowest Temperature and Wind Speed on 15.01.2012\", size = 9, loc = \"left\")\n",
    "\n",
    "# show\n",
    "plt.show()"
   ]
  },
  {
   "cell_type": "markdown",
   "id": "7cd33e4e",
   "metadata": {},
   "source": [
    "Wind is a vector quantity. It has a magnitude (wind_speed) and a direction (wind_direction). These data contains only the magnitude in scalar values."
   ]
  },
  {
   "cell_type": "markdown",
   "id": "f169a5a4",
   "metadata": {},
   "source": [
    "> On 15.01.2012 we have wind speed in range $0-11$ km/h:"
   ]
  },
  {
   "cell_type": "code",
   "execution_count": 22,
   "id": "0af76ef0",
   "metadata": {},
   "outputs": [],
   "source": [
    "df_wind_description_S = pd.DataFrame({\"specifications\": [\"sea like a mirror\", \"sea shaken into waves\", \"we feel on face\"],\n",
    "                                    \"wind_speed\": [\"0 - 1\", \"1 - 5\", \"6 - 11\"],\n",
    "                                    \"description\": [\"calm\", \"light air\", \"light breeze\"]})"
   ]
  },
  {
   "cell_type": "code",
   "execution_count": 23,
   "id": "eb9db2f0",
   "metadata": {},
   "outputs": [
    {
     "data": {
      "text/html": [
       "<style type=\"text/css\">\n",
       "</style>\n",
       "<table id=\"T_dc9a9\">\n",
       "  <thead>\n",
       "    <tr>\n",
       "      <th id=\"T_dc9a9_level0_col0\" class=\"col_heading level0 col0\" >specifications</th>\n",
       "      <th id=\"T_dc9a9_level0_col1\" class=\"col_heading level0 col1\" >wind_speed</th>\n",
       "      <th id=\"T_dc9a9_level0_col2\" class=\"col_heading level0 col2\" >description</th>\n",
       "    </tr>\n",
       "  </thead>\n",
       "  <tbody>\n",
       "    <tr>\n",
       "      <td id=\"T_dc9a9_row0_col0\" class=\"data row0 col0\" >sea like a mirror</td>\n",
       "      <td id=\"T_dc9a9_row0_col1\" class=\"data row0 col1\" >0 - 1</td>\n",
       "      <td id=\"T_dc9a9_row0_col2\" class=\"data row0 col2\" >calm</td>\n",
       "    </tr>\n",
       "    <tr>\n",
       "      <td id=\"T_dc9a9_row1_col0\" class=\"data row1 col0\" >sea shaken into waves</td>\n",
       "      <td id=\"T_dc9a9_row1_col1\" class=\"data row1 col1\" >1 - 5</td>\n",
       "      <td id=\"T_dc9a9_row1_col2\" class=\"data row1 col2\" >light air</td>\n",
       "    </tr>\n",
       "    <tr>\n",
       "      <td id=\"T_dc9a9_row2_col0\" class=\"data row2 col0\" >we feel on face</td>\n",
       "      <td id=\"T_dc9a9_row2_col1\" class=\"data row2 col1\" >6 - 11</td>\n",
       "      <td id=\"T_dc9a9_row2_col2\" class=\"data row2 col2\" >light breeze</td>\n",
       "    </tr>\n",
       "  </tbody>\n",
       "</table>\n"
      ],
      "text/plain": [
       "<pandas.io.formats.style.Styler at 0x1243e12bdc0>"
      ]
     },
     "execution_count": 23,
     "metadata": {},
     "output_type": "execute_result"
    }
   ],
   "source": [
    "df_wind_description_S.style.hide()    # hides index column"
   ]
  },
  {
   "cell_type": "markdown",
   "id": "36752457",
   "metadata": {},
   "source": [
    "Now to explore how the wind behaves in the highest temperature..."
   ]
  },
  {
   "cell_type": "code",
   "execution_count": 24,
   "id": "4e1d00d7",
   "metadata": {},
   "outputs": [
    {
     "data": {
      "text/plain": [
       "(68, 5)"
      ]
     },
     "execution_count": 24,
     "metadata": {},
     "output_type": "execute_result"
    }
   ],
   "source": [
    "working_df[(working_df[\"Temp_C\"] >= 30)].shape"
   ]
  },
  {
   "cell_type": "markdown",
   "id": "3579a1ae",
   "metadata": {},
   "source": [
    "There are $68$ entries for temperature above 30$^{o}C$ on different days."
   ]
  },
  {
   "cell_type": "code",
   "execution_count": 25,
   "id": "f5a0930f",
   "metadata": {},
   "outputs": [],
   "source": [
    "df68_heat = working_df[(working_df[\"Temp_C\"] >= 30)]"
   ]
  },
  {
   "cell_type": "code",
   "execution_count": 26,
   "id": "0f68e932",
   "metadata": {},
   "outputs": [],
   "source": [
    "heat_temp = df68_heat[\"Temp_C\"]"
   ]
  },
  {
   "cell_type": "markdown",
   "id": "e09959cc",
   "metadata": {},
   "source": [
    "Checking min / max and mean:"
   ]
  },
  {
   "cell_type": "code",
   "execution_count": 27,
   "id": "8b79d474",
   "metadata": {},
   "outputs": [
    {
     "data": {
      "text/plain": [
       "[30.0, 33.0, 31.217647058823527]"
      ]
     },
     "execution_count": 27,
     "metadata": {},
     "output_type": "execute_result"
    }
   ],
   "source": [
    "[heat_temp.min(), heat_temp.max(), heat_temp.mean()]     # grad C"
   ]
  },
  {
   "cell_type": "code",
   "execution_count": 28,
   "id": "d24d80b4",
   "metadata": {},
   "outputs": [],
   "source": [
    "heat_wind = df68_heat[\"Wind Speed_km/h\"]"
   ]
  },
  {
   "cell_type": "markdown",
   "id": "4c596810",
   "metadata": {},
   "source": [
    "Checking min / max and mean value of the wind during the most high temperatures:"
   ]
  },
  {
   "cell_type": "code",
   "execution_count": 29,
   "id": "9cbcff4a",
   "metadata": {},
   "outputs": [
    {
     "data": {
      "text/plain": [
       "[4, 32, 18.0]"
      ]
     },
     "execution_count": 29,
     "metadata": {},
     "output_type": "execute_result"
    }
   ],
   "source": [
    "[heat_wind.min(), heat_wind.max(), heat_wind.mean()]        # km/h"
   ]
  },
  {
   "cell_type": "markdown",
   "id": "a8c49359",
   "metadata": {},
   "source": [
    "Here the visual presentation with 68 values above 30$^{o}C$:"
   ]
  },
  {
   "cell_type": "code",
   "execution_count": 30,
   "id": "2a72315b",
   "metadata": {},
   "outputs": [
    {
     "data": {
      "image/png": "[encoded data removed]",
      "text/plain": [
       "<Figure size 640x480 with 1 Axes>"
      ]
     },
     "metadata": {},
     "output_type": "display_data"
    }
   ],
   "source": [
    "fig, ax = plt.subplots()\n",
    "\n",
    "ax.plot(heat_temp, heat_wind, linestyle = \"dashdot\", lw = 1.2, color = \"sandybrown\")\n",
    "\n",
    "ax.spines[\"right\"].set_visible(False)\n",
    "ax.spines[\"left\"].set_visible(False)\n",
    "ax.spines[\"top\"].set_visible(False)\n",
    "\n",
    "ax.xaxis.set_ticks_position(\"bottom\")\n",
    "ax.yaxis.set_ticks_position(\"left\")\n",
    "ax.yaxis.grid(lw = 0.2) \n",
    "\n",
    "ax.set_xlabel(\"Temperature $^{o}C$\", size = 7)\n",
    "ax.set_ylabel(\"Wind Speed $km/h$\", size = 7)\n",
    "ax.set_title(\"Wind motion above 30$^{o}C$ with 68 values\", size = 8, loc = \"right\")\n",
    "\n",
    "plt.show()"
   ]
  },
  {
   "cell_type": "markdown",
   "id": "fdcc494d",
   "metadata": {},
   "source": [
    "> Uh! A lot is going on here :) Let's zoom in and test with less values:"
   ]
  },
  {
   "cell_type": "code",
   "execution_count": 31,
   "id": "b40f3028",
   "metadata": {},
   "outputs": [
    {
     "data": {
      "text/plain": [
       "(35, 5)"
      ]
     },
     "execution_count": 31,
     "metadata": {},
     "output_type": "execute_result"
    }
   ],
   "source": [
    "working_df[(working_df[\"Temp_C\"] >= 31)].shape"
   ]
  },
  {
   "cell_type": "markdown",
   "id": "7093f759",
   "metadata": {},
   "source": [
    "Above 31$^{o}C$ we have 35 entries. I would like to compare with the same shape as the cold chart."
   ]
  },
  {
   "cell_type": "code",
   "execution_count": 32,
   "id": "b4ca3b70",
   "metadata": {},
   "outputs": [
    {
     "data": {
      "text/plain": [
       "(11, 5)"
      ]
     },
     "execution_count": 32,
     "metadata": {},
     "output_type": "execute_result"
    }
   ],
   "source": [
    "working_df[(working_df[\"Temp_C\"] >= 32.4)].shape"
   ]
  },
  {
   "cell_type": "markdown",
   "id": "569a62d6",
   "metadata": {},
   "source": [
    "Here we go! Above 32.4$^{o}C$ there are exactly 11 entries I need for the hot/cold comparison."
   ]
  },
  {
   "cell_type": "code",
   "execution_count": 33,
   "id": "dcb7f9d2",
   "metadata": {},
   "outputs": [],
   "source": [
    "df_heat_temp11 = working_df[(working_df[\"Temp_C\"] >= 32.4)]"
   ]
  },
  {
   "cell_type": "code",
   "execution_count": 34,
   "id": "cfb314d1",
   "metadata": {},
   "outputs": [
    {
     "data": {
      "text/html": [
       "<div>\n",
       "<style scoped>\n",
       "    .dataframe tbody tr th:only-of-type {\n",
       "        vertical-align: middle;\n",
       "    }\n",
       "\n",
       "    .dataframe tbody tr th {\n",
       "        vertical-align: top;\n",
       "    }\n",
       "\n",
       "    .dataframe thead th {\n",
       "        text-align: right;\n",
       "    }\n",
       "</style>\n",
       "<table border=\"1\" class=\"dataframe\">\n",
       "  <thead>\n",
       "    <tr style=\"text-align: right;\">\n",
       "      <th></th>\n",
       "      <th>Date</th>\n",
       "      <th>Time</th>\n",
       "      <th>Temp_C</th>\n",
       "      <th>Wind Speed_km/h</th>\n",
       "      <th>Weather</th>\n",
       "    </tr>\n",
       "  </thead>\n",
       "  <tbody>\n",
       "    <tr>\n",
       "      <th>4122</th>\n",
       "      <td>2012-06-20</td>\n",
       "      <td>18:00:00</td>\n",
       "      <td>32.4</td>\n",
       "      <td>17</td>\n",
       "      <td>Mostly Cloudy</td>\n",
       "    </tr>\n",
       "    <tr>\n",
       "      <th>4142</th>\n",
       "      <td>2012-06-21</td>\n",
       "      <td>14:00:00</td>\n",
       "      <td>32.6</td>\n",
       "      <td>20</td>\n",
       "      <td>Mainly Clear</td>\n",
       "    </tr>\n",
       "    <tr>\n",
       "      <th>4143</th>\n",
       "      <td>2012-06-21</td>\n",
       "      <td>15:00:00</td>\n",
       "      <td>33.0</td>\n",
       "      <td>24</td>\n",
       "      <td>Mainly Clear</td>\n",
       "    </tr>\n",
       "    <tr>\n",
       "      <th>4144</th>\n",
       "      <td>2012-06-21</td>\n",
       "      <td>16:00:00</td>\n",
       "      <td>32.5</td>\n",
       "      <td>24</td>\n",
       "      <td>Mainly Clear</td>\n",
       "    </tr>\n",
       "    <tr>\n",
       "      <th>4694</th>\n",
       "      <td>2012-07-14</td>\n",
       "      <td>14:00:00</td>\n",
       "      <td>32.7</td>\n",
       "      <td>28</td>\n",
       "      <td>Mainly Clear</td>\n",
       "    </tr>\n",
       "    <tr>\n",
       "      <th>4695</th>\n",
       "      <td>2012-07-14</td>\n",
       "      <td>15:00:00</td>\n",
       "      <td>33.0</td>\n",
       "      <td>22</td>\n",
       "      <td>Mainly Clear</td>\n",
       "    </tr>\n",
       "    <tr>\n",
       "      <th>4696</th>\n",
       "      <td>2012-07-14</td>\n",
       "      <td>16:00:00</td>\n",
       "      <td>32.9</td>\n",
       "      <td>24</td>\n",
       "      <td>Mainly Clear</td>\n",
       "    </tr>\n",
       "    <tr>\n",
       "      <th>4697</th>\n",
       "      <td>2012-07-14</td>\n",
       "      <td>17:00:00</td>\n",
       "      <td>32.5</td>\n",
       "      <td>19</td>\n",
       "      <td>Mainly Clear</td>\n",
       "    </tr>\n",
       "    <tr>\n",
       "      <th>5199</th>\n",
       "      <td>2012-08-04</td>\n",
       "      <td>15:00:00</td>\n",
       "      <td>32.8</td>\n",
       "      <td>17</td>\n",
       "      <td>Clear</td>\n",
       "    </tr>\n",
       "    <tr>\n",
       "      <th>5200</th>\n",
       "      <td>2012-08-04</td>\n",
       "      <td>16:00:00</td>\n",
       "      <td>32.5</td>\n",
       "      <td>15</td>\n",
       "      <td>Clear</td>\n",
       "    </tr>\n",
       "    <tr>\n",
       "      <th>5201</th>\n",
       "      <td>2012-08-04</td>\n",
       "      <td>17:00:00</td>\n",
       "      <td>32.5</td>\n",
       "      <td>13</td>\n",
       "      <td>Clear</td>\n",
       "    </tr>\n",
       "  </tbody>\n",
       "</table>\n",
       "</div>"
      ],
      "text/plain": [
       "            Date      Time  Temp_C  Wind Speed_km/h        Weather\n",
       "4122  2012-06-20  18:00:00    32.4               17  Mostly Cloudy\n",
       "4142  2012-06-21  14:00:00    32.6               20   Mainly Clear\n",
       "4143  2012-06-21  15:00:00    33.0               24   Mainly Clear\n",
       "4144  2012-06-21  16:00:00    32.5               24   Mainly Clear\n",
       "4694  2012-07-14  14:00:00    32.7               28   Mainly Clear\n",
       "4695  2012-07-14  15:00:00    33.0               22   Mainly Clear\n",
       "4696  2012-07-14  16:00:00    32.9               24   Mainly Clear\n",
       "4697  2012-07-14  17:00:00    32.5               19   Mainly Clear\n",
       "5199  2012-08-04  15:00:00    32.8               17          Clear\n",
       "5200  2012-08-04  16:00:00    32.5               15          Clear\n",
       "5201  2012-08-04  17:00:00    32.5               13          Clear"
      ]
     },
     "execution_count": 34,
     "metadata": {},
     "output_type": "execute_result"
    }
   ],
   "source": [
    "df_heat_temp11"
   ]
  },
  {
   "cell_type": "code",
   "execution_count": 35,
   "id": "5039f4b4",
   "metadata": {},
   "outputs": [],
   "source": [
    "heat_temp11 = df_heat_temp11[\"Temp_C\"]"
   ]
  },
  {
   "cell_type": "code",
   "execution_count": 36,
   "id": "9ed92a1b",
   "metadata": {},
   "outputs": [],
   "source": [
    "heat_wind11 = df_heat_temp11[\"Wind Speed_km/h\"]"
   ]
  },
  {
   "cell_type": "code",
   "execution_count": 37,
   "id": "7380c391",
   "metadata": {},
   "outputs": [
    {
     "data": {
      "image/png": "[encoded data removed]",
      "text/plain": [
       "<Figure size 640x480 with 1 Axes>"
      ]
     },
     "metadata": {},
     "output_type": "display_data"
    }
   ],
   "source": [
    "fig, ax = plt.subplots()\n",
    "\n",
    "ax.plot(heat_temp11, heat_wind11, linestyle = \"dashdot\", lw = 1.2, color = \"sandybrown\")\n",
    "\n",
    "ax.spines[\"right\"].set_visible(False)\n",
    "ax.spines[\"left\"].set_visible(False)\n",
    "ax.spines[\"top\"].set_visible(False)\n",
    "\n",
    "ax.xaxis.set_ticks_position(\"bottom\")\n",
    "ax.yaxis.set_ticks_position(\"left\")\n",
    "ax.yaxis.grid(lw = 0.2)\n",
    "\n",
    "ax.set_xlabel(\"Temperature $^{o}C$\", size = 7)\n",
    "ax.set_ylabel(\"Wind Speed $km/h$\", size = 7)\n",
    "ax.set_title(\"Wind motion in the highest temperature with 11 values\", size = 8, loc = \"right\")\n",
    "\n",
    "plt.show()"
   ]
  },
  {
   "cell_type": "code",
   "execution_count": 38,
   "id": "a918c308",
   "metadata": {},
   "outputs": [
    {
     "data": {
      "text/plain": [
       "[32.4, 33.0]"
      ]
     },
     "execution_count": 38,
     "metadata": {},
     "output_type": "execute_result"
    }
   ],
   "source": [
    "[heat_temp11.min(), heat_temp11.max()]                  # I always do some check if my chart is correct"
   ]
  },
  {
   "cell_type": "code",
   "execution_count": 39,
   "id": "8bbaf8eb",
   "metadata": {},
   "outputs": [
    {
     "data": {
      "text/plain": [
       "[13, 28]"
      ]
     },
     "execution_count": 39,
     "metadata": {},
     "output_type": "execute_result"
    }
   ],
   "source": [
    "[heat_wind11.min(), heat_wind11.max()]                 # I always do some check if my chart is correct"
   ]
  },
  {
   "cell_type": "markdown",
   "id": "24c03c23",
   "metadata": {},
   "source": [
    "> The wind speed is much more different here, below a guide table:"
   ]
  },
  {
   "cell_type": "code",
   "execution_count": 40,
   "id": "bc0f6634",
   "metadata": {},
   "outputs": [],
   "source": [
    "df_wind_description_M = pd.DataFrame({\"specifications\": [\"tree leaves in constant motion\", \"raises dust, moves small branches\"],\n",
    "                                        \"wind_speed\": [\"13 - 19\", \"20 - 28\"],\n",
    "                                       \"description\": [\"gentle breeze\", \"moderate breeze\"]})"
   ]
  },
  {
   "cell_type": "code",
   "execution_count": 41,
   "id": "9ed1737e",
   "metadata": {},
   "outputs": [
    {
     "data": {
      "text/html": [
       "<style type=\"text/css\">\n",
       "</style>\n",
       "<table id=\"T_10076\">\n",
       "  <thead>\n",
       "    <tr>\n",
       "      <th id=\"T_10076_level0_col0\" class=\"col_heading level0 col0\" >specifications</th>\n",
       "      <th id=\"T_10076_level0_col1\" class=\"col_heading level0 col1\" >wind_speed</th>\n",
       "      <th id=\"T_10076_level0_col2\" class=\"col_heading level0 col2\" >description</th>\n",
       "    </tr>\n",
       "  </thead>\n",
       "  <tbody>\n",
       "    <tr>\n",
       "      <td id=\"T_10076_row0_col0\" class=\"data row0 col0\" >tree leaves in constant motion</td>\n",
       "      <td id=\"T_10076_row0_col1\" class=\"data row0 col1\" >13 - 19</td>\n",
       "      <td id=\"T_10076_row0_col2\" class=\"data row0 col2\" >gentle breeze</td>\n",
       "    </tr>\n",
       "    <tr>\n",
       "      <td id=\"T_10076_row1_col0\" class=\"data row1 col0\" >raises dust, moves small branches</td>\n",
       "      <td id=\"T_10076_row1_col1\" class=\"data row1 col1\" >20 - 28</td>\n",
       "      <td id=\"T_10076_row1_col2\" class=\"data row1 col2\" >moderate breeze</td>\n",
       "    </tr>\n",
       "  </tbody>\n",
       "</table>\n"
      ],
      "text/plain": [
       "<pandas.io.formats.style.Styler at 0x1243e2c2160>"
      ]
     },
     "execution_count": 41,
     "metadata": {},
     "output_type": "execute_result"
    }
   ],
   "source": [
    "df_wind_description_M.style.hide()   # hides index column"
   ]
  },
  {
   "cell_type": "markdown",
   "id": "2b04884a",
   "metadata": {},
   "source": [
    "Okay, time to compare:"
   ]
  },
  {
   "cell_type": "code",
   "execution_count": 42,
   "id": "8077f1fb",
   "metadata": {},
   "outputs": [
    {
     "data": {
      "image/png": "[encoded data removed]",
      "text/plain": [
       "<Figure size 1500x500 with 2 Axes>"
      ]
     },
     "metadata": {},
     "output_type": "display_data"
    }
   ],
   "source": [
    "fig, (ax1, ax2) = plt.subplots(1, 2, figsize = (15, 5))\n",
    "\n",
    "ax1.plot(temp_at_lowest, lowest_temp_wind, linestyle = \"dashdot\", lw = 1.2, color = \"royalblue\")\n",
    "ax1.set_ylim(-2, 30)\n",
    "ax1.yaxis.grid(lw = 0.2)\n",
    "ax1.spines[\"right\"].set_visible(False)\n",
    "ax1.spines[\"left\"].set_visible(False)\n",
    "ax1.spines[\"top\"].set_visible(False)\n",
    "ax1.xaxis.set_ticks_position(\"bottom\")\n",
    "ax1.yaxis.set_ticks_position(\"left\")\n",
    "ax1.set_xlabel(\"Temperature $^{o}C$\", size = 8)\n",
    "ax1.set_ylabel(\"Wind Speed $km/h$\", size = 8)\n",
    "ax1.set_title(\"Wind speed in the lowest temperatures\", size = 9, loc = \"right\", pad = 30)\n",
    "\n",
    "ax2.plot(heat_temp11, heat_wind11, linestyle = \"dashdot\", lw = 1.2, color = \"sandybrown\")\n",
    "ax2.set_ylim(-2, 30)\n",
    "ax2.yaxis.grid(lw = 0.2)\n",
    "ax2.spines[\"right\"].set_visible(False)\n",
    "ax2.spines[\"left\"].set_visible(False)\n",
    "ax2.spines[\"top\"].set_visible(False)\n",
    "ax2.xaxis.set_ticks_position(\"bottom\")\n",
    "ax2.yaxis.set_ticks_position(\"left\")\n",
    "ax2.set_xlabel(\"Temperature $^{o}C$\", size = 7)\n",
    "ax2.set_ylabel(\"Wind Speed $km/h$\", size = 7)\n",
    "ax2.set_title(\"Wind speed in the highest temperatures\", size = 9, loc = \"right\", pad = 30)\n",
    "\n",
    "plt.show()"
   ]
  },
  {
   "cell_type": "markdown",
   "id": "6235526d",
   "metadata": {},
   "source": [
    "> The wind guide table all together:"
   ]
  },
  {
   "cell_type": "code",
   "execution_count": 43,
   "id": "8ffc19ae",
   "metadata": {},
   "outputs": [],
   "source": [
    "df_wind_description_L = pd.DataFrame({\"specifications\": [\"sea like a mirror\", \"sea shaken into waves\", \"we feel on face\",\n",
    "                                                    \"tree leaves in constant motion\", \"raises dust, moves small branches\"],\n",
    "                                          \"wind_speed\": [\"0 - 1\", \"1 - 5\", \"6 - 11\", \"12 - 19\", \"20 - 28\"],\n",
    "                                \"description\": [\"calm\", \"light air\", \"light breeze\", \"gentle breeze\", \"moderate breeze\"]})"
   ]
  },
  {
   "cell_type": "code",
   "execution_count": 44,
   "id": "d68c56bb",
   "metadata": {},
   "outputs": [
    {
     "data": {
      "text/html": [
       "<style type=\"text/css\">\n",
       "</style>\n",
       "<table id=\"T_22f6f\">\n",
       "  <thead>\n",
       "    <tr>\n",
       "      <th id=\"T_22f6f_level0_col0\" class=\"col_heading level0 col0\" >specifications</th>\n",
       "      <th id=\"T_22f6f_level0_col1\" class=\"col_heading level0 col1\" >wind_speed</th>\n",
       "      <th id=\"T_22f6f_level0_col2\" class=\"col_heading level0 col2\" >description</th>\n",
       "    </tr>\n",
       "  </thead>\n",
       "  <tbody>\n",
       "    <tr>\n",
       "      <td id=\"T_22f6f_row0_col0\" class=\"data row0 col0\" >sea like a mirror</td>\n",
       "      <td id=\"T_22f6f_row0_col1\" class=\"data row0 col1\" >0 - 1</td>\n",
       "      <td id=\"T_22f6f_row0_col2\" class=\"data row0 col2\" >calm</td>\n",
       "    </tr>\n",
       "    <tr>\n",
       "      <td id=\"T_22f6f_row1_col0\" class=\"data row1 col0\" >sea shaken into waves</td>\n",
       "      <td id=\"T_22f6f_row1_col1\" class=\"data row1 col1\" >1 - 5</td>\n",
       "      <td id=\"T_22f6f_row1_col2\" class=\"data row1 col2\" >light air</td>\n",
       "    </tr>\n",
       "    <tr>\n",
       "      <td id=\"T_22f6f_row2_col0\" class=\"data row2 col0\" >we feel on face</td>\n",
       "      <td id=\"T_22f6f_row2_col1\" class=\"data row2 col1\" >6 - 11</td>\n",
       "      <td id=\"T_22f6f_row2_col2\" class=\"data row2 col2\" >light breeze</td>\n",
       "    </tr>\n",
       "    <tr>\n",
       "      <td id=\"T_22f6f_row3_col0\" class=\"data row3 col0\" >tree leaves in constant motion</td>\n",
       "      <td id=\"T_22f6f_row3_col1\" class=\"data row3 col1\" >12 - 19</td>\n",
       "      <td id=\"T_22f6f_row3_col2\" class=\"data row3 col2\" >gentle breeze</td>\n",
       "    </tr>\n",
       "    <tr>\n",
       "      <td id=\"T_22f6f_row4_col0\" class=\"data row4 col0\" >raises dust, moves small branches</td>\n",
       "      <td id=\"T_22f6f_row4_col1\" class=\"data row4 col1\" >20 - 28</td>\n",
       "      <td id=\"T_22f6f_row4_col2\" class=\"data row4 col2\" >moderate breeze</td>\n",
       "    </tr>\n",
       "  </tbody>\n",
       "</table>\n"
      ],
      "text/plain": [
       "<pandas.io.formats.style.Styler at 0x1243e349880>"
      ]
     },
     "execution_count": 44,
     "metadata": {},
     "output_type": "execute_result"
    }
   ],
   "source": [
    "df_wind_description_L.style.hide()"
   ]
  },
  {
   "cell_type": "markdown",
   "id": "a3c691ed",
   "metadata": {},
   "source": [
    "In simple terms, wind is the movement of air. This movement is caused by pressure differences, which in turn were caused by temperature differences. It all starts with the sun :) As it gets warmer, the air expands and rises, leaving behind an area of low pressure. Then, the air will move from surrounding higher pressure areas to try even things out and it is this rush of air that results in wind. The bigger the pressure difference, the faster the air moves. But because of earth's rotation, that air does not flow directly from high to low pressure... instead it is deflected to the right."
   ]
  },
  {
   "cell_type": "markdown",
   "id": "4387e585",
   "metadata": {},
   "source": [
    "As I said in the beginning, wind is my favourite natural phenomenon, and the way it moves is amazing! Below, you see a Japanese kanji $Wind$, calligraphed by a Japanese girl. The Japanese language has 3 alphabets (writing systems). Kanji is one of them."
   ]
  },
  {
   "cell_type": "code",
   "execution_count": 45,
   "id": "e6db9f7a",
   "metadata": {},
   "outputs": [
    {
     "data": {
      "image/png": "[encoded data removed]",
      "text/plain": [
       "<Figure size 250x500 with 1 Axes>"
      ]
     },
     "metadata": {},
     "output_type": "display_data"
    }
   ],
   "source": [
    "kanji_image = imread(\"wind_kanji.jpg\")\n",
    "plt.figure(figsize = (2.5, 5))\n",
    "plt.xticks([])\n",
    "plt.yticks([])\n",
    "plt.title(\"Japanese calligraphy: Wind kanji\", size = 8)\n",
    "plt.imshow(kanji_image)\n",
    "plt.show()"
   ]
  },
  {
   "cell_type": "markdown",
   "id": "3895b6a5",
   "metadata": {},
   "source": [
    "In Japanese culture the concept of $Wind$ holds a significant place:\n",
    "- Wind is associated with change and unpredictability.\n",
    "- The light air and gentle breeze are also seen as symbols of renewal and refreshment. "
   ]
  },
  {
   "cell_type": "markdown",
   "id": "c90ce829",
   "metadata": {},
   "source": [
    "<p style = \"font-size: 17px; text-align: center\" > And what if I decide to sort the same 11 entries by Time?"
   ]
  },
  {
   "cell_type": "code",
   "execution_count": 46,
   "id": "026bdc14",
   "metadata": {},
   "outputs": [
    {
     "data": {
      "text/html": [
       "<div>\n",
       "<style scoped>\n",
       "    .dataframe tbody tr th:only-of-type {\n",
       "        vertical-align: middle;\n",
       "    }\n",
       "\n",
       "    .dataframe tbody tr th {\n",
       "        vertical-align: top;\n",
       "    }\n",
       "\n",
       "    .dataframe thead th {\n",
       "        text-align: right;\n",
       "    }\n",
       "</style>\n",
       "<table border=\"1\" class=\"dataframe\">\n",
       "  <thead>\n",
       "    <tr style=\"text-align: right;\">\n",
       "      <th></th>\n",
       "      <th>Date</th>\n",
       "      <th>Time</th>\n",
       "      <th>Temp_C</th>\n",
       "      <th>Wind Speed_km/h</th>\n",
       "      <th>Weather</th>\n",
       "    </tr>\n",
       "  </thead>\n",
       "  <tbody>\n",
       "    <tr>\n",
       "      <th>344</th>\n",
       "      <td>2012-01-15</td>\n",
       "      <td>08:00:00</td>\n",
       "      <td>-23.3</td>\n",
       "      <td>7</td>\n",
       "      <td>Clear</td>\n",
       "    </tr>\n",
       "    <tr>\n",
       "      <th>342</th>\n",
       "      <td>2012-01-15</td>\n",
       "      <td>06:00:00</td>\n",
       "      <td>-23.2</td>\n",
       "      <td>7</td>\n",
       "      <td>Mostly Cloudy</td>\n",
       "    </tr>\n",
       "    <tr>\n",
       "      <th>343</th>\n",
       "      <td>2012-01-15</td>\n",
       "      <td>07:00:00</td>\n",
       "      <td>-22.8</td>\n",
       "      <td>9</td>\n",
       "      <td>Mainly Clear</td>\n",
       "    </tr>\n",
       "    <tr>\n",
       "      <th>345</th>\n",
       "      <td>2012-01-15</td>\n",
       "      <td>09:00:00</td>\n",
       "      <td>-22.2</td>\n",
       "      <td>9</td>\n",
       "      <td>Mainly Clear</td>\n",
       "    </tr>\n",
       "    <tr>\n",
       "      <th>338</th>\n",
       "      <td>2012-01-15</td>\n",
       "      <td>02:00:00</td>\n",
       "      <td>-21.4</td>\n",
       "      <td>9</td>\n",
       "      <td>Cloudy</td>\n",
       "    </tr>\n",
       "    <tr>\n",
       "      <th>341</th>\n",
       "      <td>2012-01-15</td>\n",
       "      <td>05:00:00</td>\n",
       "      <td>-21.3</td>\n",
       "      <td>6</td>\n",
       "      <td>Mostly Cloudy</td>\n",
       "    </tr>\n",
       "    <tr>\n",
       "      <th>336</th>\n",
       "      <td>2012-01-15</td>\n",
       "      <td>00:00:00</td>\n",
       "      <td>-21.2</td>\n",
       "      <td>11</td>\n",
       "      <td>Cloudy</td>\n",
       "    </tr>\n",
       "    <tr>\n",
       "      <th>337</th>\n",
       "      <td>2012-01-15</td>\n",
       "      <td>01:00:00</td>\n",
       "      <td>-21.1</td>\n",
       "      <td>9</td>\n",
       "      <td>Cloudy</td>\n",
       "    </tr>\n",
       "    <tr>\n",
       "      <th>340</th>\n",
       "      <td>2012-01-15</td>\n",
       "      <td>04:00:00</td>\n",
       "      <td>-21.0</td>\n",
       "      <td>0</td>\n",
       "      <td>Cloudy</td>\n",
       "    </tr>\n",
       "    <tr>\n",
       "      <th>339</th>\n",
       "      <td>2012-01-15</td>\n",
       "      <td>03:00:00</td>\n",
       "      <td>-20.7</td>\n",
       "      <td>4</td>\n",
       "      <td>Cloudy</td>\n",
       "    </tr>\n",
       "    <tr>\n",
       "      <th>346</th>\n",
       "      <td>2012-01-15</td>\n",
       "      <td>10:00:00</td>\n",
       "      <td>-20.6</td>\n",
       "      <td>9</td>\n",
       "      <td>Mainly Clear</td>\n",
       "    </tr>\n",
       "  </tbody>\n",
       "</table>\n",
       "</div>"
      ],
      "text/plain": [
       "           Date      Time  Temp_C  Wind Speed_km/h        Weather\n",
       "344  2012-01-15  08:00:00   -23.3                7          Clear\n",
       "342  2012-01-15  06:00:00   -23.2                7  Mostly Cloudy\n",
       "343  2012-01-15  07:00:00   -22.8                9   Mainly Clear\n",
       "345  2012-01-15  09:00:00   -22.2                9   Mainly Clear\n",
       "338  2012-01-15  02:00:00   -21.4                9         Cloudy\n",
       "341  2012-01-15  05:00:00   -21.3                6  Mostly Cloudy\n",
       "336  2012-01-15  00:00:00   -21.2               11         Cloudy\n",
       "337  2012-01-15  01:00:00   -21.1                9         Cloudy\n",
       "340  2012-01-15  04:00:00   -21.0                0         Cloudy\n",
       "339  2012-01-15  03:00:00   -20.7                4         Cloudy\n",
       "346  2012-01-15  10:00:00   -20.6                9   Mainly Clear"
      ]
     },
     "execution_count": 46,
     "metadata": {},
     "output_type": "execute_result"
    }
   ],
   "source": [
    "lowest_temp_df"
   ]
  },
  {
   "cell_type": "markdown",
   "id": "1fd8c260",
   "metadata": {},
   "source": [
    "In the lowest temperature there is just one day (Jan 15, 2012), I sort by $Time$:"
   ]
  },
  {
   "cell_type": "code",
   "execution_count": 47,
   "id": "1b01716c",
   "metadata": {},
   "outputs": [
    {
     "data": {
      "text/html": [
       "<div>\n",
       "<style scoped>\n",
       "    .dataframe tbody tr th:only-of-type {\n",
       "        vertical-align: middle;\n",
       "    }\n",
       "\n",
       "    .dataframe tbody tr th {\n",
       "        vertical-align: top;\n",
       "    }\n",
       "\n",
       "    .dataframe thead th {\n",
       "        text-align: right;\n",
       "    }\n",
       "</style>\n",
       "<table border=\"1\" class=\"dataframe\">\n",
       "  <thead>\n",
       "    <tr style=\"text-align: right;\">\n",
       "      <th></th>\n",
       "      <th>Date</th>\n",
       "      <th>Time</th>\n",
       "      <th>Temp_C</th>\n",
       "      <th>Wind Speed_km/h</th>\n",
       "      <th>Weather</th>\n",
       "    </tr>\n",
       "  </thead>\n",
       "  <tbody>\n",
       "    <tr>\n",
       "      <th>336</th>\n",
       "      <td>2012-01-15</td>\n",
       "      <td>00:00:00</td>\n",
       "      <td>-21.2</td>\n",
       "      <td>11</td>\n",
       "      <td>Cloudy</td>\n",
       "    </tr>\n",
       "    <tr>\n",
       "      <th>337</th>\n",
       "      <td>2012-01-15</td>\n",
       "      <td>01:00:00</td>\n",
       "      <td>-21.1</td>\n",
       "      <td>9</td>\n",
       "      <td>Cloudy</td>\n",
       "    </tr>\n",
       "    <tr>\n",
       "      <th>338</th>\n",
       "      <td>2012-01-15</td>\n",
       "      <td>02:00:00</td>\n",
       "      <td>-21.4</td>\n",
       "      <td>9</td>\n",
       "      <td>Cloudy</td>\n",
       "    </tr>\n",
       "    <tr>\n",
       "      <th>339</th>\n",
       "      <td>2012-01-15</td>\n",
       "      <td>03:00:00</td>\n",
       "      <td>-20.7</td>\n",
       "      <td>4</td>\n",
       "      <td>Cloudy</td>\n",
       "    </tr>\n",
       "    <tr>\n",
       "      <th>340</th>\n",
       "      <td>2012-01-15</td>\n",
       "      <td>04:00:00</td>\n",
       "      <td>-21.0</td>\n",
       "      <td>0</td>\n",
       "      <td>Cloudy</td>\n",
       "    </tr>\n",
       "    <tr>\n",
       "      <th>341</th>\n",
       "      <td>2012-01-15</td>\n",
       "      <td>05:00:00</td>\n",
       "      <td>-21.3</td>\n",
       "      <td>6</td>\n",
       "      <td>Mostly Cloudy</td>\n",
       "    </tr>\n",
       "    <tr>\n",
       "      <th>342</th>\n",
       "      <td>2012-01-15</td>\n",
       "      <td>06:00:00</td>\n",
       "      <td>-23.2</td>\n",
       "      <td>7</td>\n",
       "      <td>Mostly Cloudy</td>\n",
       "    </tr>\n",
       "    <tr>\n",
       "      <th>343</th>\n",
       "      <td>2012-01-15</td>\n",
       "      <td>07:00:00</td>\n",
       "      <td>-22.8</td>\n",
       "      <td>9</td>\n",
       "      <td>Mainly Clear</td>\n",
       "    </tr>\n",
       "    <tr>\n",
       "      <th>344</th>\n",
       "      <td>2012-01-15</td>\n",
       "      <td>08:00:00</td>\n",
       "      <td>-23.3</td>\n",
       "      <td>7</td>\n",
       "      <td>Clear</td>\n",
       "    </tr>\n",
       "    <tr>\n",
       "      <th>345</th>\n",
       "      <td>2012-01-15</td>\n",
       "      <td>09:00:00</td>\n",
       "      <td>-22.2</td>\n",
       "      <td>9</td>\n",
       "      <td>Mainly Clear</td>\n",
       "    </tr>\n",
       "    <tr>\n",
       "      <th>346</th>\n",
       "      <td>2012-01-15</td>\n",
       "      <td>10:00:00</td>\n",
       "      <td>-20.6</td>\n",
       "      <td>9</td>\n",
       "      <td>Mainly Clear</td>\n",
       "    </tr>\n",
       "  </tbody>\n",
       "</table>\n",
       "</div>"
      ],
      "text/plain": [
       "           Date      Time  Temp_C  Wind Speed_km/h        Weather\n",
       "336  2012-01-15  00:00:00   -21.2               11         Cloudy\n",
       "337  2012-01-15  01:00:00   -21.1                9         Cloudy\n",
       "338  2012-01-15  02:00:00   -21.4                9         Cloudy\n",
       "339  2012-01-15  03:00:00   -20.7                4         Cloudy\n",
       "340  2012-01-15  04:00:00   -21.0                0         Cloudy\n",
       "341  2012-01-15  05:00:00   -21.3                6  Mostly Cloudy\n",
       "342  2012-01-15  06:00:00   -23.2                7  Mostly Cloudy\n",
       "343  2012-01-15  07:00:00   -22.8                9   Mainly Clear\n",
       "344  2012-01-15  08:00:00   -23.3                7          Clear\n",
       "345  2012-01-15  09:00:00   -22.2                9   Mainly Clear\n",
       "346  2012-01-15  10:00:00   -20.6                9   Mainly Clear"
      ]
     },
     "execution_count": 47,
     "metadata": {},
     "output_type": "execute_result"
    }
   ],
   "source": [
    "lowest_temp_df.sort_values(by = [\"Time\"])"
   ]
  },
  {
   "cell_type": "markdown",
   "id": "c173d655",
   "metadata": {},
   "source": [
    "And let's see how the air moves, we can say, in the night of 15 Jan 2012:"
   ]
  },
  {
   "cell_type": "code",
   "execution_count": 48,
   "id": "af6a9a65",
   "metadata": {},
   "outputs": [],
   "source": [
    "df_lowest_temp_sorted_by_time = lowest_temp_df.sort_values(by = [\"Time\"])"
   ]
  },
  {
   "cell_type": "code",
   "execution_count": 49,
   "id": "031456ab",
   "metadata": {},
   "outputs": [],
   "source": [
    "temp_lowest_sorted = df_lowest_temp_sorted_by_time[\"Temp_C\"]"
   ]
  },
  {
   "cell_type": "code",
   "execution_count": 50,
   "id": "f9c25e23",
   "metadata": {},
   "outputs": [],
   "source": [
    "lowest_temp_wind_sorted = df_lowest_temp_sorted_by_time[\"Wind Speed_km/h\"]"
   ]
  },
  {
   "cell_type": "code",
   "execution_count": 51,
   "id": "0ba65e03",
   "metadata": {},
   "outputs": [
    {
     "data": {
      "image/png": "[encoded data removed]",
      "text/plain": [
       "<Figure size 640x480 with 1 Axes>"
      ]
     },
     "metadata": {},
     "output_type": "display_data"
    }
   ],
   "source": [
    "fig, ax = plt.subplots()\n",
    "\n",
    "ax.plot(temp_lowest_sorted, lowest_temp_wind_sorted, linestyle = \"dashdot\", lw = 1.2, color = \"royalblue\")\n",
    "\n",
    "# hide some axes lines\n",
    "ax.spines[\"right\"].set_visible(False)\n",
    "ax.spines[\"left\"].set_visible(False)\n",
    "ax.spines[\"top\"].set_visible(False)\n",
    "\n",
    "# showing ticks\n",
    "ax.xaxis.set_ticks_position(\"bottom\")\n",
    "ax.yaxis.set_ticks_position(\"left\")\n",
    "\n",
    "# horozontal grid of y-axis\n",
    "ax.yaxis.grid(lw = 0.2)\n",
    "\n",
    "# labels\n",
    "ax.set_xlabel(\"Temperature $^{o}C$\", size = 8)\n",
    "ax.set_ylabel(\"Wind Speed $km/h$\", size = 8)\n",
    "ax.set_title(\"Wind Speed in the night of 15.01.2012\", size = 9, loc = \"left\")\n",
    "\n",
    "# show\n",
    "plt.show()"
   ]
  },
  {
   "cell_type": "markdown",
   "id": "d0ecc252",
   "metadata": {},
   "source": [
    "Data is fragile like glass baubles! We see a different presentation on the same part of axes."
   ]
  },
  {
   "cell_type": "code",
   "execution_count": 52,
   "id": "52a2f2b7",
   "metadata": {},
   "outputs": [
    {
     "data": {
      "text/html": [
       "<div>\n",
       "<style scoped>\n",
       "    .dataframe tbody tr th:only-of-type {\n",
       "        vertical-align: middle;\n",
       "    }\n",
       "\n",
       "    .dataframe tbody tr th {\n",
       "        vertical-align: top;\n",
       "    }\n",
       "\n",
       "    .dataframe thead th {\n",
       "        text-align: right;\n",
       "    }\n",
       "</style>\n",
       "<table border=\"1\" class=\"dataframe\">\n",
       "  <thead>\n",
       "    <tr style=\"text-align: right;\">\n",
       "      <th></th>\n",
       "      <th>Time</th>\n",
       "      <th>Temp_C</th>\n",
       "      <th>Wind Speed_km/h</th>\n",
       "    </tr>\n",
       "  </thead>\n",
       "  <tbody>\n",
       "    <tr>\n",
       "      <th>336</th>\n",
       "      <td>00:00:00</td>\n",
       "      <td>-21.2</td>\n",
       "      <td>11</td>\n",
       "    </tr>\n",
       "    <tr>\n",
       "      <th>337</th>\n",
       "      <td>01:00:00</td>\n",
       "      <td>-21.1</td>\n",
       "      <td>9</td>\n",
       "    </tr>\n",
       "    <tr>\n",
       "      <th>338</th>\n",
       "      <td>02:00:00</td>\n",
       "      <td>-21.4</td>\n",
       "      <td>9</td>\n",
       "    </tr>\n",
       "    <tr>\n",
       "      <th>339</th>\n",
       "      <td>03:00:00</td>\n",
       "      <td>-20.7</td>\n",
       "      <td>4</td>\n",
       "    </tr>\n",
       "    <tr>\n",
       "      <th>340</th>\n",
       "      <td>04:00:00</td>\n",
       "      <td>-21.0</td>\n",
       "      <td>0</td>\n",
       "    </tr>\n",
       "    <tr>\n",
       "      <th>341</th>\n",
       "      <td>05:00:00</td>\n",
       "      <td>-21.3</td>\n",
       "      <td>6</td>\n",
       "    </tr>\n",
       "    <tr>\n",
       "      <th>342</th>\n",
       "      <td>06:00:00</td>\n",
       "      <td>-23.2</td>\n",
       "      <td>7</td>\n",
       "    </tr>\n",
       "    <tr>\n",
       "      <th>343</th>\n",
       "      <td>07:00:00</td>\n",
       "      <td>-22.8</td>\n",
       "      <td>9</td>\n",
       "    </tr>\n",
       "    <tr>\n",
       "      <th>344</th>\n",
       "      <td>08:00:00</td>\n",
       "      <td>-23.3</td>\n",
       "      <td>7</td>\n",
       "    </tr>\n",
       "    <tr>\n",
       "      <th>345</th>\n",
       "      <td>09:00:00</td>\n",
       "      <td>-22.2</td>\n",
       "      <td>9</td>\n",
       "    </tr>\n",
       "    <tr>\n",
       "      <th>346</th>\n",
       "      <td>10:00:00</td>\n",
       "      <td>-20.6</td>\n",
       "      <td>9</td>\n",
       "    </tr>\n",
       "  </tbody>\n",
       "</table>\n",
       "</div>"
      ],
      "text/plain": [
       "         Time  Temp_C  Wind Speed_km/h\n",
       "336  00:00:00   -21.2               11\n",
       "337  01:00:00   -21.1                9\n",
       "338  02:00:00   -21.4                9\n",
       "339  03:00:00   -20.7                4\n",
       "340  04:00:00   -21.0                0\n",
       "341  05:00:00   -21.3                6\n",
       "342  06:00:00   -23.2                7\n",
       "343  07:00:00   -22.8                9\n",
       "344  08:00:00   -23.3                7\n",
       "345  09:00:00   -22.2                9\n",
       "346  10:00:00   -20.6                9"
      ]
     },
     "execution_count": 52,
     "metadata": {},
     "output_type": "execute_result"
    }
   ],
   "source": [
    "df_lowest_temp_sorted_by_time.iloc[:, [1, 2, 3]]            # : (all rows), [] columns"
   ]
  },
  {
   "cell_type": "markdown",
   "id": "1957ac61",
   "metadata": {},
   "source": [
    "Through the hours of the night, temperatures are changing and the wind speed is changing too. In these data there is no wind direction available."
   ]
  },
  {
   "cell_type": "markdown",
   "id": "1730bbd2",
   "metadata": {},
   "source": [
    "The most calm moment is:\n",
    "- zero wind.\n",
    "- presentation: the lowest point.\n",
    "- description: calmness and sea like a mirror."
   ]
  },
  {
   "cell_type": "code",
   "execution_count": 53,
   "id": "8d25c5a0",
   "metadata": {},
   "outputs": [
    {
     "data": {
      "text/plain": [
       "Date               2012-01-15\n",
       "Time                 04:00:00\n",
       "Temp_C                  -21.0\n",
       "Wind Speed_km/h             0\n",
       "Weather                Cloudy\n",
       "Name: 340, dtype: object"
      ]
     },
     "execution_count": 53,
     "metadata": {},
     "output_type": "execute_result"
    }
   ],
   "source": [
    "df_lowest_temp_sorted_by_time.loc[340]"
   ]
  },
  {
   "cell_type": "markdown",
   "id": "59ac0126",
   "metadata": {},
   "source": [
    "In the most hot values there are three months (June, July, Aug). Set is already sorted."
   ]
  },
  {
   "cell_type": "code",
   "execution_count": 54,
   "id": "2f932ecf",
   "metadata": {},
   "outputs": [
    {
     "data": {
      "text/html": [
       "<div>\n",
       "<style scoped>\n",
       "    .dataframe tbody tr th:only-of-type {\n",
       "        vertical-align: middle;\n",
       "    }\n",
       "\n",
       "    .dataframe tbody tr th {\n",
       "        vertical-align: top;\n",
       "    }\n",
       "\n",
       "    .dataframe thead th {\n",
       "        text-align: right;\n",
       "    }\n",
       "</style>\n",
       "<table border=\"1\" class=\"dataframe\">\n",
       "  <thead>\n",
       "    <tr style=\"text-align: right;\">\n",
       "      <th></th>\n",
       "      <th>Date</th>\n",
       "      <th>Time</th>\n",
       "      <th>Temp_C</th>\n",
       "      <th>Wind Speed_km/h</th>\n",
       "      <th>Weather</th>\n",
       "    </tr>\n",
       "  </thead>\n",
       "  <tbody>\n",
       "    <tr>\n",
       "      <th>4122</th>\n",
       "      <td>2012-06-20</td>\n",
       "      <td>18:00:00</td>\n",
       "      <td>32.4</td>\n",
       "      <td>17</td>\n",
       "      <td>Mostly Cloudy</td>\n",
       "    </tr>\n",
       "    <tr>\n",
       "      <th>4142</th>\n",
       "      <td>2012-06-21</td>\n",
       "      <td>14:00:00</td>\n",
       "      <td>32.6</td>\n",
       "      <td>20</td>\n",
       "      <td>Mainly Clear</td>\n",
       "    </tr>\n",
       "    <tr>\n",
       "      <th>4143</th>\n",
       "      <td>2012-06-21</td>\n",
       "      <td>15:00:00</td>\n",
       "      <td>33.0</td>\n",
       "      <td>24</td>\n",
       "      <td>Mainly Clear</td>\n",
       "    </tr>\n",
       "    <tr>\n",
       "      <th>4144</th>\n",
       "      <td>2012-06-21</td>\n",
       "      <td>16:00:00</td>\n",
       "      <td>32.5</td>\n",
       "      <td>24</td>\n",
       "      <td>Mainly Clear</td>\n",
       "    </tr>\n",
       "    <tr>\n",
       "      <th>4694</th>\n",
       "      <td>2012-07-14</td>\n",
       "      <td>14:00:00</td>\n",
       "      <td>32.7</td>\n",
       "      <td>28</td>\n",
       "      <td>Mainly Clear</td>\n",
       "    </tr>\n",
       "    <tr>\n",
       "      <th>4695</th>\n",
       "      <td>2012-07-14</td>\n",
       "      <td>15:00:00</td>\n",
       "      <td>33.0</td>\n",
       "      <td>22</td>\n",
       "      <td>Mainly Clear</td>\n",
       "    </tr>\n",
       "    <tr>\n",
       "      <th>4696</th>\n",
       "      <td>2012-07-14</td>\n",
       "      <td>16:00:00</td>\n",
       "      <td>32.9</td>\n",
       "      <td>24</td>\n",
       "      <td>Mainly Clear</td>\n",
       "    </tr>\n",
       "    <tr>\n",
       "      <th>4697</th>\n",
       "      <td>2012-07-14</td>\n",
       "      <td>17:00:00</td>\n",
       "      <td>32.5</td>\n",
       "      <td>19</td>\n",
       "      <td>Mainly Clear</td>\n",
       "    </tr>\n",
       "    <tr>\n",
       "      <th>5199</th>\n",
       "      <td>2012-08-04</td>\n",
       "      <td>15:00:00</td>\n",
       "      <td>32.8</td>\n",
       "      <td>17</td>\n",
       "      <td>Clear</td>\n",
       "    </tr>\n",
       "    <tr>\n",
       "      <th>5200</th>\n",
       "      <td>2012-08-04</td>\n",
       "      <td>16:00:00</td>\n",
       "      <td>32.5</td>\n",
       "      <td>15</td>\n",
       "      <td>Clear</td>\n",
       "    </tr>\n",
       "    <tr>\n",
       "      <th>5201</th>\n",
       "      <td>2012-08-04</td>\n",
       "      <td>17:00:00</td>\n",
       "      <td>32.5</td>\n",
       "      <td>13</td>\n",
       "      <td>Clear</td>\n",
       "    </tr>\n",
       "  </tbody>\n",
       "</table>\n",
       "</div>"
      ],
      "text/plain": [
       "            Date      Time  Temp_C  Wind Speed_km/h        Weather\n",
       "4122  2012-06-20  18:00:00    32.4               17  Mostly Cloudy\n",
       "4142  2012-06-21  14:00:00    32.6               20   Mainly Clear\n",
       "4143  2012-06-21  15:00:00    33.0               24   Mainly Clear\n",
       "4144  2012-06-21  16:00:00    32.5               24   Mainly Clear\n",
       "4694  2012-07-14  14:00:00    32.7               28   Mainly Clear\n",
       "4695  2012-07-14  15:00:00    33.0               22   Mainly Clear\n",
       "4696  2012-07-14  16:00:00    32.9               24   Mainly Clear\n",
       "4697  2012-07-14  17:00:00    32.5               19   Mainly Clear\n",
       "5199  2012-08-04  15:00:00    32.8               17          Clear\n",
       "5200  2012-08-04  16:00:00    32.5               15          Clear\n",
       "5201  2012-08-04  17:00:00    32.5               13          Clear"
      ]
     },
     "execution_count": 54,
     "metadata": {},
     "output_type": "execute_result"
    }
   ],
   "source": [
    "df_heat_temp11"
   ]
  },
  {
   "cell_type": "markdown",
   "id": "15920084",
   "metadata": {},
   "source": [
    "We will not recognize changes here."
   ]
  },
  {
   "cell_type": "markdown",
   "id": "d6c99e60",
   "metadata": {},
   "source": [
    "<p style = \"font-size: 17px; text-align: center\" > Let's discover some more wind $zero$ happenings."
   ]
  },
  {
   "cell_type": "code",
   "execution_count": 55,
   "id": "eb6d4c99",
   "metadata": {},
   "outputs": [
    {
     "data": {
      "text/plain": [
       "(309, 5)"
      ]
     },
     "execution_count": 55,
     "metadata": {},
     "output_type": "execute_result"
    }
   ],
   "source": [
    "working_df[working_df[\"Wind Speed_km/h\"] == 0].shape"
   ]
  },
  {
   "cell_type": "markdown",
   "id": "e7e29404",
   "metadata": {},
   "source": [
    "There are 309 entries for Wind speed 0 km/h, good shape to travel around..."
   ]
  },
  {
   "cell_type": "markdown",
   "id": "683662bc",
   "metadata": {},
   "source": [
    "> According to NASA and its Aircraft references, $Wind$ $Speed$ $=$ $Airspeed$ $-$ $Ground$ $Speed$"
   ]
  },
  {
   "cell_type": "markdown",
   "id": "ad1c2e35",
   "metadata": {},
   "source": [
    "...not only can an object be moved through the air, but the air itself moves. Again wind is a vector quantity and has both a magnitude and a direction. In this dataset we have just the magnitude as scalar values. Now, exploring the zero movement."
   ]
  },
  {
   "cell_type": "markdown",
   "id": "d754fea4",
   "metadata": {},
   "source": [
    "From an aircraft, the wind speed can not be directly measured, one must compute the wind speed from the ground speed and airspeed. Wind speed is the vector difference between the airspeed and the ground speed. If the wind speed is $zero$, the airspeed is equal to the ground speed."
   ]
  },
  {
   "cell_type": "code",
   "execution_count": 56,
   "id": "af9511f2",
   "metadata": {},
   "outputs": [],
   "source": [
    "df_wind_zero = working_df[working_df[\"Wind Speed_km/h\"] == 0]          # creating df_variable to work with"
   ]
  },
  {
   "cell_type": "code",
   "execution_count": 57,
   "id": "1d4295d8",
   "metadata": {},
   "outputs": [
    {
     "data": {
      "text/plain": [
       "(101, 5)"
      ]
     },
     "execution_count": 57,
     "metadata": {},
     "output_type": "execute_result"
    }
   ],
   "source": [
    "df_wind_zero[df_wind_zero[\"Weather\"] == \"Clear\"].shape"
   ]
  },
  {
   "cell_type": "code",
   "execution_count": 58,
   "id": "9ee7704e",
   "metadata": {},
   "outputs": [
    {
     "data": {
      "text/plain": [
       "(38, 5)"
      ]
     },
     "execution_count": 58,
     "metadata": {},
     "output_type": "execute_result"
    }
   ],
   "source": [
    "df_wind_zero[df_wind_zero[\"Weather\"] == \"Cloudy\"].shape"
   ]
  },
  {
   "cell_type": "code",
   "execution_count": 59,
   "id": "96e386ac",
   "metadata": {},
   "outputs": [
    {
     "data": {
      "text/plain": [
       "(14, 5)"
      ]
     },
     "execution_count": 59,
     "metadata": {},
     "output_type": "execute_result"
    }
   ],
   "source": [
    "df_wind_zero[df_wind_zero[\"Weather\"] == \"Snow\"].shape"
   ]
  },
  {
   "cell_type": "code",
   "execution_count": 60,
   "id": "9b08da45",
   "metadata": {},
   "outputs": [
    {
     "data": {
      "text/html": [
       "<div>\n",
       "<style scoped>\n",
       "    .dataframe tbody tr th:only-of-type {\n",
       "        vertical-align: middle;\n",
       "    }\n",
       "\n",
       "    .dataframe tbody tr th {\n",
       "        vertical-align: top;\n",
       "    }\n",
       "\n",
       "    .dataframe thead th {\n",
       "        text-align: right;\n",
       "    }\n",
       "</style>\n",
       "<table border=\"1\" class=\"dataframe\">\n",
       "  <thead>\n",
       "    <tr style=\"text-align: right;\">\n",
       "      <th></th>\n",
       "      <th>Date</th>\n",
       "      <th>Time</th>\n",
       "      <th>Temp_C</th>\n",
       "      <th>Wind Speed_km/h</th>\n",
       "      <th>Weather</th>\n",
       "    </tr>\n",
       "  </thead>\n",
       "  <tbody>\n",
       "    <tr>\n",
       "      <th>3411</th>\n",
       "      <td>2012-05-22</td>\n",
       "      <td>03:00:00</td>\n",
       "      <td>18.2</td>\n",
       "      <td>0</td>\n",
       "      <td>Rain Showers</td>\n",
       "    </tr>\n",
       "    <tr>\n",
       "      <th>4439</th>\n",
       "      <td>2012-07-03</td>\n",
       "      <td>23:00:00</td>\n",
       "      <td>20.8</td>\n",
       "      <td>0</td>\n",
       "      <td>Rain Showers</td>\n",
       "    </tr>\n",
       "    <tr>\n",
       "      <th>6190</th>\n",
       "      <td>2012-09-14</td>\n",
       "      <td>22:00:00</td>\n",
       "      <td>15.5</td>\n",
       "      <td>0</td>\n",
       "      <td>Rain Showers</td>\n",
       "    </tr>\n",
       "    <tr>\n",
       "      <th>7317</th>\n",
       "      <td>2012-10-31</td>\n",
       "      <td>21:00:00</td>\n",
       "      <td>8.1</td>\n",
       "      <td>0</td>\n",
       "      <td>Rain Showers</td>\n",
       "    </tr>\n",
       "    <tr>\n",
       "      <th>7324</th>\n",
       "      <td>2012-11-01</td>\n",
       "      <td>04:00:00</td>\n",
       "      <td>7.7</td>\n",
       "      <td>0</td>\n",
       "      <td>Rain Showers</td>\n",
       "    </tr>\n",
       "  </tbody>\n",
       "</table>\n",
       "</div>"
      ],
      "text/plain": [
       "            Date      Time  Temp_C  Wind Speed_km/h       Weather\n",
       "3411  2012-05-22  03:00:00    18.2                0  Rain Showers\n",
       "4439  2012-07-03  23:00:00    20.8                0  Rain Showers\n",
       "6190  2012-09-14  22:00:00    15.5                0  Rain Showers\n",
       "7317  2012-10-31  21:00:00     8.1                0  Rain Showers\n",
       "7324  2012-11-01  04:00:00     7.7                0  Rain Showers"
      ]
     },
     "execution_count": 60,
     "metadata": {},
     "output_type": "execute_result"
    }
   ],
   "source": [
    "df_wind_zero[df_wind_zero[\"Weather\"] == \"Rain Showers\"]               # 5 entries for Rain Showers"
   ]
  },
  {
   "cell_type": "markdown",
   "id": "7debef2f",
   "metadata": {},
   "source": [
    "Below we see just one entry for Snow Showers and Zero wind speed. A fairytale moment, a fairytale morning, I guess..."
   ]
  },
  {
   "cell_type": "code",
   "execution_count": 61,
   "id": "6db5e89f",
   "metadata": {},
   "outputs": [
    {
     "data": {
      "text/html": [
       "<div>\n",
       "<style scoped>\n",
       "    .dataframe tbody tr th:only-of-type {\n",
       "        vertical-align: middle;\n",
       "    }\n",
       "\n",
       "    .dataframe tbody tr th {\n",
       "        vertical-align: top;\n",
       "    }\n",
       "\n",
       "    .dataframe thead th {\n",
       "        text-align: right;\n",
       "    }\n",
       "</style>\n",
       "<table border=\"1\" class=\"dataframe\">\n",
       "  <thead>\n",
       "    <tr style=\"text-align: right;\">\n",
       "      <th></th>\n",
       "      <th>Date</th>\n",
       "      <th>Time</th>\n",
       "      <th>Temp_C</th>\n",
       "      <th>Wind Speed_km/h</th>\n",
       "      <th>Weather</th>\n",
       "    </tr>\n",
       "  </thead>\n",
       "  <tbody>\n",
       "    <tr>\n",
       "      <th>8767</th>\n",
       "      <td>2012-12-31</td>\n",
       "      <td>07:00:00</td>\n",
       "      <td>-9.3</td>\n",
       "      <td>0</td>\n",
       "      <td>Snow Showers</td>\n",
       "    </tr>\n",
       "  </tbody>\n",
       "</table>\n",
       "</div>"
      ],
      "text/plain": [
       "            Date      Time  Temp_C  Wind Speed_km/h       Weather\n",
       "8767  2012-12-31  07:00:00    -9.3                0  Snow Showers"
      ]
     },
     "execution_count": 61,
     "metadata": {},
     "output_type": "execute_result"
    }
   ],
   "source": [
    "df_wind_zero[df_wind_zero[\"Weather\"] == \"Snow Showers\"]"
   ]
  },
  {
   "cell_type": "markdown",
   "id": "2b7cd944",
   "metadata": {},
   "source": [
    "I create a dataframe for clear weather. There are 101 entries for clear weather and zero wind speed:"
   ]
  },
  {
   "cell_type": "code",
   "execution_count": 62,
   "id": "fdc7160d",
   "metadata": {},
   "outputs": [],
   "source": [
    "df_clear_weather = df_wind_zero[df_wind_zero[\"Weather\"] == \"Clear\"]"
   ]
  },
  {
   "cell_type": "markdown",
   "id": "fc3c1a3d",
   "metadata": {},
   "source": [
    "Then, we have 35 entries for clear weather, zero wind speed and minus temperatures:"
   ]
  },
  {
   "cell_type": "code",
   "execution_count": 63,
   "id": "7c7bb46d",
   "metadata": {},
   "outputs": [],
   "source": [
    "df_clear_weather_minus = df_clear_weather[df_clear_weather[\"Temp_C\"] < 0]"
   ]
  },
  {
   "cell_type": "code",
   "execution_count": 64,
   "id": "87f0e7f9",
   "metadata": {},
   "outputs": [
    {
     "data": {
      "text/plain": [
       "Index(['Date', 'Time', 'Temp_C', 'Wind Speed_km/h', 'Weather'], dtype='object')"
      ]
     },
     "execution_count": 64,
     "metadata": {},
     "output_type": "execute_result"
    }
   ],
   "source": [
    "df_clear_weather_minus.columns"
   ]
  },
  {
   "cell_type": "code",
   "execution_count": 65,
   "id": "3851e65a",
   "metadata": {},
   "outputs": [
    {
     "data": {
      "text/plain": [
       "364     2012-01-16\n",
       "365     2012-01-16\n",
       "366     2012-01-16\n",
       "502     2012-01-21\n",
       "504     2012-01-22\n",
       "506     2012-01-22\n",
       "603     2012-01-26\n",
       "604     2012-01-26\n",
       "827     2012-02-04\n",
       "838     2012-02-04\n",
       "839     2012-02-04\n",
       "849     2012-02-05\n",
       "917     2012-02-08\n",
       "1179    2012-02-19\n",
       "1201    2012-02-20\n",
       "1222    2012-02-20\n",
       "1298    2012-02-24\n",
       "1414    2012-02-28\n",
       "1419    2012-02-29\n",
       "1421    2012-02-29\n",
       "1422    2012-02-29\n",
       "1568    2012-03-06\n",
       "2074    2012-03-27\n",
       "2187    2012-04-01\n",
       "2210    2012-04-02\n",
       "6869    2012-10-13\n",
       "7459    2012-11-06\n",
       "7460    2012-11-06\n",
       "7682    2012-11-16\n",
       "7683    2012-11-16\n",
       "7684    2012-11-16\n",
       "7728    2012-11-18\n",
       "7729    2012-11-18\n",
       "7730    2012-11-18\n",
       "7942    2012-11-26\n",
       "Name: Date, dtype: object"
      ]
     },
     "execution_count": 65,
     "metadata": {},
     "output_type": "execute_result"
    }
   ],
   "source": [
    "df_clear_weather_minus.Date"
   ]
  },
  {
   "cell_type": "markdown",
   "id": "214f0e14",
   "metadata": {},
   "source": [
    "Clear weather, minus temperatures and wind speed $zero$ in the months:\n",
    "- January, mostly\n",
    "- February, mostly\n",
    "- March, just two days\n",
    "- April, just two days\n",
    "- October, one day\n",
    "- November, mostly"
   ]
  },
  {
   "cell_type": "markdown",
   "id": "4c775c74",
   "metadata": {},
   "source": [
    "> Conclusion: We have cold, no wind and clear weather mostly in January, February and November."
   ]
  },
  {
   "cell_type": "markdown",
   "id": "711a9e2b",
   "metadata": {},
   "source": [
    "I confirm! These are the months with the most beautiful sunsets!"
   ]
  },
  {
   "cell_type": "markdown",
   "id": "8074bb93",
   "metadata": {},
   "source": [
    "_____________________________________________________________________________________________________________________________"
   ]
  },
  {
   "cell_type": "markdown",
   "id": "57b8893a",
   "metadata": {},
   "source": [
    "References:\n",
    "1. The Royal Meteorological Society, UK: https://www.rmets.org/metmatters/what-wind\n",
    "2. Wind kanji - private collection.\n",
    "3. NASA, wind zero: https://www.grc.nasa.gov/www/k-12/VirtualAero/BottleRocket/airplane/move2.html"
   ]
  }
 ],
 "metadata": {
  "kernelspec": {
   "display_name": "Python 3 (ipykernel)",
   "language": "python",
   "name": "python3"
  },
  "language_info": {
   "codemirror_mode": {
    "name": "ipython",
    "version": 3
   },
   "file_extension": ".py",
   "mimetype": "text/x-python",
   "name": "python",
   "nbconvert_exporter": "python",
   "pygments_lexer": "ipython3",
   "version": "3.9.13"
  }
 },
 "nbformat": 4,
 "nbformat_minor": 5
}
